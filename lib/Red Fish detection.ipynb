{
 "cells": [
  {
   "cell_type": "code",
   "execution_count": 1,
   "metadata": {
    "collapsed": true
   },
   "outputs": [],
   "source": [
    "import numpy as np\n",
    "from scipy.misc import *\n",
    "import cv2\n",
    "import os"
   ]
  },
  {
   "cell_type": "code",
   "execution_count": 77,
   "metadata": {
    "collapsed": true
   },
   "outputs": [],
   "source": [
    "fish_cascade = cv2.CascadeClassifier('/Users/Kevin/Google Drive/xml/redfish_128_1024.xml')\n",
    "input_path = './train/ALB/'\n",
    "output_path = './haha/'"
   ]
  },
  {
   "cell_type": "code",
   "execution_count": 78,
   "metadata": {
    "collapsed": true
   },
   "outputs": [],
   "source": [
    "file_name = [input_path + os.listdir(input_path)[i] for i in range(len(os.listdir(input_path)))]"
   ]
  },
  {
   "cell_type": "code",
   "execution_count": 82,
   "metadata": {
    "collapsed": false
   },
   "outputs": [
    {
     "data": {
      "text/plain": [
       "'./train/ALB/img_00003.jpg'"
      ]
     },
     "execution_count": 82,
     "metadata": {},
     "output_type": "execute_result"
    }
   ],
   "source": [
    "file_name[1]"
   ]
  },
  {
   "cell_type": "code",
   "execution_count": 90,
   "metadata": {
    "collapsed": false
   },
   "outputs": [],
   "source": [
    "i = file_name[1]\n",
    "img = imresize(cv2.imread(i), [1024, 1024, 3])\n",
    "gray = cv2.cvtColor(img, cv2.COLOR_BGR2GRAY)\n",
    "# fish = fish_cascade.detectMultiScale(gray, 1.3, 5)\n",
    "fish = fish_cascade.detectMultiScale(gray, 1.3, 5)\n",
    "output_name = i.split('/')[-1]\n",
    "for (x,y,w,h) in fish:\n",
    "\timg = cv2.rectangle(img,(x,y),(x+w,y+h),(255,255,0),2)  # color thickness\n",
    "# \tcrop_fish = img[y:y+h, x:x+w]\n",
    "\tcv2.imwrite(os.path.join(output_path,output_name),img,)"
   ]
  },
  {
   "cell_type": "code",
   "execution_count": 28,
   "metadata": {
    "collapsed": false
   },
   "outputs": [],
   "source": [
    "?fish_cascade.detectMultiScale()"
   ]
  },
  {
   "cell_type": "code",
   "execution_count": 36,
   "metadata": {
    "collapsed": false
   },
   "outputs": [
    {
     "name": "stdout",
     "output_type": "stream",
     "text": [
      "img_00091.jpg\n",
      "img_00176.jpg\n",
      "img_00657.jpg\n",
      "img_00784.jpg\n",
      "img_01037.jpg\n",
      "img_01221.jpg\n",
      "img_01457.jpg\n",
      "img_01512.jpg\n",
      "img_01527.jpg\n",
      "img_01644.jpg\n",
      "img_01766.jpg\n",
      "img_01952.jpg\n",
      "img_02042.jpg\n",
      "img_02089.jpg\n",
      "img_02186.jpg\n",
      "img_02236.jpg\n",
      "img_02349.jpg\n",
      "img_02415.jpg\n",
      "img_02533.jpg\n",
      "img_02608.jpg\n",
      "img_02694.jpg\n",
      "img_02728.jpg\n",
      "img_02758.jpg\n",
      "img_03052.jpg\n",
      "img_03232.jpg\n",
      "img_03611.jpg\n",
      "img_03771.jpg\n",
      "img_03774.jpg\n",
      "img_03940.jpg\n",
      "img_04199.jpg\n",
      "img_04279.jpg\n",
      "img_04297.jpg\n",
      "img_04352.jpg\n",
      "img_04414.jpg\n",
      "img_04435.jpg\n",
      "img_04481.jpg\n",
      "img_04678.jpg\n",
      "img_04711.jpg\n",
      "img_04734.jpg\n",
      "img_04741.jpg\n",
      "img_04953.jpg\n",
      "img_04958.jpg\n",
      "img_05005.jpg\n",
      "img_05081.jpg\n",
      "img_05123.jpg\n",
      "img_05386.jpg\n",
      "img_05449.jpg\n",
      "img_05939.jpg\n",
      "img_05966.jpg\n",
      "img_06129.jpg\n",
      "img_06223.jpg\n",
      "img_06224.jpg\n",
      "img_06257.jpg\n",
      "img_06536.jpg\n",
      "img_06713.jpg\n",
      "img_06876.jpg\n",
      "img_07010.jpg\n",
      "img_07087.jpg\n",
      "img_07142.jpg\n",
      "img_07176.jpg\n",
      "img_07269.jpg\n",
      "img_07334.jpg\n",
      "img_07774.jpg\n",
      "img_07817.jpg\n",
      "img_07830.jpg\n",
      "img_07919.jpg\n"
     ]
    }
   ],
   "source": [
    "input_path = './haha/'\n",
    "output_path = './haha1/'\n",
    "file_name = [input_path + os.listdir(input_path)[i] for i in range(len(os.listdir(input_path)))]\n",
    "for i in file_name:\n",
    "\toutput_name = i.split('/')[-1]\n",
    "\tif output_name != '.DS_Store':\n",
    "\t\tprint(output_name)\n",
    "\t\timg = imresize(cv2.imread(i), [1024, 1024, 3])\n",
    "\t\tgray = cv2.cvtColor(img, cv2.COLOR_BGR2GRAY)\n",
    "\t\tfish = fish_cascade.detectMultiScale(gray)\n",
    "\t\tfor (x,y,w,h) in fish:\n",
    "\t\t    cv2.rectangle(img,(x,y),(x+w,y+h),(255,255,0),2)  # color thickness\n",
    "\t\t    crop_fish = img[y:y+h, x:x+w]\n",
    "\t\t    cv2.imwrite(os.path.join(output_path,output_name),crop_fish,)"
   ]
  },
  {
   "cell_type": "code",
   "execution_count": 34,
   "metadata": {
    "collapsed": false
   },
   "outputs": [
    {
     "name": "stdout",
     "output_type": "stream",
     "text": [
      "img_00091.jpg\n",
      "img_00176.jpg\n",
      "img_00657.jpg\n",
      "img_00784.jpg\n",
      "img_01037.jpg\n",
      "img_01221.jpg\n",
      "img_01457.jpg\n",
      "img_01512.jpg\n",
      "img_01527.jpg\n",
      "img_01644.jpg\n",
      "img_01766.jpg\n",
      "img_01952.jpg\n",
      "img_02042.jpg\n",
      "img_02089.jpg\n",
      "img_02186.jpg\n",
      "img_02236.jpg\n",
      "img_02349.jpg\n",
      "img_02415.jpg\n",
      "img_02533.jpg\n",
      "img_02608.jpg\n",
      "img_02694.jpg\n",
      "img_02728.jpg\n",
      "img_02758.jpg\n",
      "img_03052.jpg\n",
      "img_03232.jpg\n",
      "img_03611.jpg\n",
      "img_03771.jpg\n",
      "img_03774.jpg\n",
      "img_03940.jpg\n",
      "img_04199.jpg\n",
      "img_04279.jpg\n",
      "img_04297.jpg\n",
      "img_04352.jpg\n",
      "img_04414.jpg\n",
      "img_04435.jpg\n",
      "img_04481.jpg\n",
      "img_04678.jpg\n",
      "img_04711.jpg\n",
      "img_04734.jpg\n",
      "img_04741.jpg\n",
      "img_04953.jpg\n",
      "img_04958.jpg\n",
      "img_05005.jpg\n",
      "img_05081.jpg\n",
      "img_05123.jpg\n",
      "img_05386.jpg\n",
      "img_05449.jpg\n",
      "img_05939.jpg\n",
      "img_05945.jpg\n",
      "img_05966.jpg\n",
      "img_06129.jpg\n",
      "img_06223.jpg\n",
      "img_06224.jpg\n",
      "img_06257.jpg\n",
      "img_06536.jpg\n",
      "img_06713.jpg\n",
      "img_06876.jpg\n",
      "img_07010.jpg\n",
      "img_07087.jpg\n",
      "img_07142.jpg\n",
      "img_07176.jpg\n",
      "img_07269.jpg\n",
      "img_07334.jpg\n",
      "img_07774.jpg\n",
      "img_07817.jpg\n",
      "img_07830.jpg\n",
      "img_07919.jpg\n"
     ]
    }
   ],
   "source": [
    "for i in file_name:\n",
    "\toutput_name = i.split('/')[-1]\n",
    "\tif output_name != '.DS_Store':\n",
    "\t\tprint(output_name)\n",
    "\t\timg = imresize(cv2.imread(i), [1024, 1024, 3])\n",
    "\t\tgray = cv2.cvtColor(img, cv2.COLOR_BGR2GRAY)\n",
    "\t\tfish = fish_cascade.detectMultiScale(gray, 1.3, 5,minSize=(256,256,))\n",
    "\t\tfor (x,y,w,h) in fish:\n",
    "\t\t    cv2.rectangle(img,(x,y),(x+w,y+h),(255,255,0),2)  # color thickness\n",
    "\t\t    crop_fish = img[y:y+h, x:x+w]\n",
    "\t\t    cv2.imwrite(os.path.join(output_path,output_name),crop_fish,)"
   ]
  },
  {
   "cell_type": "code",
   "execution_count": null,
   "metadata": {
    "collapsed": true
   },
   "outputs": [],
   "source": [
    "os.chdir('/Users/pengfeiwang/Desktop/f/fisheries/')\n",
    "fish_cascade = cv2.CascadeClassifier('./output/redfish.xml')\n",
    "\n",
    "input_path = '/Users/pengfeiwang/Desktop/f/data/train/ALB/'\n",
    "output_path = '/Users/pengfeiwang/Desktop/a/'\n",
    "file_name = [input_path + os.listdir(input_path)[i] for i in range(len(os.listdir(input_path)))]\n",
    "\n",
    "for i in file_name:\n",
    "\toutput_name = i.split('/')[-1]\n",
    "\tif output_name != '.DS_Store':\n",
    "\t\tprint output_name\n",
    "\t\timg = imresize(cv2.imread(i), [1024, 1024, 3])\n",
    "\t\tgray = cv2.cvtColor(img, cv2.COLOR_BGR2GRAY)\n",
    "\t\tfish = fish_cascade.detectMultiScale(gray, 1.3, 5)\n",
    "\t\tfor (x,y,w,h) in fish:\n",
    "\t\t    cv2.rectangle(img,(x,y),(x+w,y+h),(255,255,0),2)  # color thickness\n",
    "\t\t    cv2.imshow('img',img)\n",
    "\t\t    crop_fish = img[y:y+h, x:x+w]\n",
    "\t\t    cv2.imwrite(os.path.join(output_path,output_name),crop_fish,)"
   ]
  }
 ],
 "metadata": {
  "anaconda-cloud": {},
  "kernelspec": {
   "display_name": "Python [conda env:Python3.5]",
   "language": "python",
   "name": "conda-env-Python3.5-py"
  },
  "language_info": {
   "codemirror_mode": {
    "name": "ipython",
    "version": 3
   },
   "file_extension": ".py",
   "mimetype": "text/x-python",
   "name": "python",
   "nbconvert_exporter": "python",
   "pygments_lexer": "ipython3",
   "version": "3.5.2"
  }
 },
 "nbformat": 4,
 "nbformat_minor": 1
}
