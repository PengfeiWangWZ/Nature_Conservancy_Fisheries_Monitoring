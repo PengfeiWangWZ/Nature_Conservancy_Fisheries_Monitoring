{
 "cells": [
  {
   "cell_type": "code",
   "execution_count": 53,
   "metadata": {
    "collapsed": false
   },
   "outputs": [],
   "source": [
    "from cv2 import *\n",
    "import joblib\n",
    "import os\n",
    "import numpy as np\n",
    "import sklearn\n",
    "import time\n",
    "import pandas as pd \n",
    "\n",
    "from sklearn import metrics\n",
    "from sklearn.cross_validation import train_test_split\n",
    "from sklearn.cross_validation import cross_val_score\n"
   ]
  },
  {
   "cell_type": "code",
   "execution_count": 54,
   "metadata": {
    "collapsed": true
   },
   "outputs": [],
   "source": [
    "os.getcwd()\n",
    "os.chdir('/Users/yueyingteng/Documents/2016.9/Big Data /kaggle')"
   ]
  },
  {
   "cell_type": "code",
   "execution_count": 55,
   "metadata": {
    "collapsed": false
   },
   "outputs": [
    {
     "name": "stdout",
     "output_type": "stream",
     "text": [
      "\u001b[34m1-500\u001b[m\u001b[m/         \u001b[34mallpic\u001b[m\u001b[m/        \u001b[34mtest_crop_501\u001b[m\u001b[m/\r\n"
     ]
    }
   ],
   "source": [
    "ls ./test_crop"
   ]
  },
  {
   "cell_type": "code",
   "execution_count": 56,
   "metadata": {
    "collapsed": true
   },
   "outputs": [],
   "source": [
    "model = joblib.load('GBDT.pkl')\n",
    "voc = joblib.load('fullvoc.pkl')"
   ]
  },
  {
   "cell_type": "code",
   "execution_count": 67,
   "metadata": {
    "collapsed": false
   },
   "outputs": [],
   "source": [
    "# all croped test image in folder called \"allpic\"\n",
    "test_pic = []\n",
    "d = [d for d in os.listdir('./test_crop/allpic') if not d == '.DS_Store']\n",
    "for d in d:\n",
    "    test_pic.append(os.path.join('./test_crop/allpic', d))"
   ]
  },
  {
   "cell_type": "code",
   "execution_count": 68,
   "metadata": {
    "collapsed": false
   },
   "outputs": [
    {
     "data": {
      "text/plain": [
       "(854, list, './test_crop/allpic/img_00007.jpg')"
      ]
     },
     "execution_count": 68,
     "metadata": {},
     "output_type": "execute_result"
    }
   ],
   "source": [
    "len(test_pic), type(test_pic), test_pic[0]"
   ]
  },
  {
   "cell_type": "code",
   "execution_count": 52,
   "metadata": {
    "collapsed": true
   },
   "outputs": [],
   "source": [
    "feature_det = xfeatures2d.SIFT_create()\n",
    "\n",
    "matcher = BFMatcher(NORM_L2)\n",
    "# extract descriptor of the new images baesed on the constructed vocabulary\n",
    "# bow_extract  =cv2.BOWImgDescriptorExtractor(descr_ext,matcher)\n",
    "bow_extract  = BOWImgDescriptorExtractor(feature_det,matcher)\n",
    "\n",
    "def getImagedata(feature_det,bow_extract,path):\n",
    "    im = imread(path)\n",
    "    featureset = bow_extract.compute(im, feature_det.detect(im))\n",
    "    return featureset\n",
    "# returned featureset contains normzlized histogram\n",
    "\n",
    "bow_extract.setVocabulary(voc)"
   ]
  },
  {
   "cell_type": "code",
   "execution_count": 69,
   "metadata": {
    "collapsed": false
   },
   "outputs": [],
   "source": [
    "test = []  \n",
    "\n",
    "start = time.time()\n",
    "for path in test_pic:\n",
    "    featureset = getImagedata(feature_det,bow_extract,path)\n",
    "    test.append(featureset)\n",
    "    \n",
    "end = time.time()\n",
    "print (end - start)/60"
   ]
  },
  {
   "cell_type": "code",
   "execution_count": 73,
   "metadata": {
    "collapsed": false
   },
   "outputs": [
    {
     "data": {
      "text/plain": [
       "(854, 1, 500)"
      ]
     },
     "execution_count": 73,
     "metadata": {},
     "output_type": "execute_result"
    }
   ],
   "source": [
    "# np.array(test).shape \n",
    "# # (854, 1, 500)"
   ]
  },
  {
   "cell_type": "code",
   "execution_count": 74,
   "metadata": {
    "collapsed": false
   },
   "outputs": [
    {
     "data": {
      "text/plain": [
       "(854, 500)"
      ]
     },
     "execution_count": 74,
     "metadata": {},
     "output_type": "execute_result"
    }
   ],
   "source": [
    "test = np.array(test).reshape(len(np.array(test)), -1)\n",
    "test.shape\n",
    "## (854, 500)"
   ]
  },
  {
   "cell_type": "code",
   "execution_count": 88,
   "metadata": {
    "collapsed": false
   },
   "outputs": [
    {
     "data": {
      "text/plain": [
       "['ALB', 'BET', 'DOL', 'LAG', 'OTHER', 'SHARK', 'YFT']"
      ]
     },
     "execution_count": 88,
     "metadata": {},
     "output_type": "execute_result"
    }
   ],
   "source": [
    "folders = [f for f in os.listdir('./fish') if not f.startswith('.')]\n",
    "col = []\n",
    "for folder in folders:\n",
    "    col.append(folder)\n",
    "    \n",
    "col"
   ]
  },
  {
   "cell_type": "code",
   "execution_count": 94,
   "metadata": {
    "collapsed": false
   },
   "outputs": [],
   "source": [
    "# all croped test image in folder called \"allpic\"\n",
    "test_name= []\n",
    "d = [d for d in os.listdir('./test_crop/allpic') if not d == '.DS_Store']\n",
    "for d in d:\n",
    "    test_name.append(d)\n",
    "\n",
    "# test_name"
   ]
  },
  {
   "cell_type": "code",
   "execution_count": 101,
   "metadata": {
    "collapsed": false
   },
   "outputs": [],
   "source": [
    "pred = model.predict(test)\n",
    "prob = model.predict_proba(test)\n",
    "# ALB BET DOL LAG OTHER SHARK YFT : 0-6\n",
    "prob.shape\n",
    "sub = pd.DataFrame(prob)\n",
    "sub.columns = col\n",
    "# df.insert(idx, col_name, value)\n",
    "sub.insert(0, 'image', test_name)\n",
    "\n",
    "sub.to_csv('submission.csv', encoding='utf8', index=False)"
   ]
  },
  {
   "cell_type": "code",
   "execution_count": 102,
   "metadata": {
    "collapsed": true
   },
   "outputs": [],
   "source": [
    "! open submission.csv"
   ]
  },
  {
   "cell_type": "code",
   "execution_count": null,
   "metadata": {
    "collapsed": true
   },
   "outputs": [],
   "source": []
  }
 ],
 "metadata": {
  "anaconda-cloud": {},
  "kernelspec": {
   "display_name": "Python [python2]",
   "language": "python",
   "name": "Python [python2]"
  },
  "language_info": {
   "codemirror_mode": {
    "name": "ipython",
    "version": 2
   },
   "file_extension": ".py",
   "mimetype": "text/x-python",
   "name": "python",
   "nbconvert_exporter": "python",
   "pygments_lexer": "ipython2",
   "version": "2.7.12"
  }
 },
 "nbformat": 4,
 "nbformat_minor": 0
}
