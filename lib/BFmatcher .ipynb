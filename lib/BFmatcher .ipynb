{
 "cells": [
  {
   "cell_type": "code",
   "execution_count": 54,
   "metadata": {
    "collapsed": true
   },
   "outputs": [],
   "source": [
    "from cv2 import *\n",
    "import joblib\n",
    "import os\n",
    "import csv\n",
    "import numpy as np\n",
    "import sklearn\n",
    "from sklearn import svm\n",
    "import time\n",
    "from random import randint\n",
    "\n",
    "import pandas as pd "
   ]
  },
  {
   "cell_type": "code",
   "execution_count": 49,
   "metadata": {
    "collapsed": true
   },
   "outputs": [],
   "source": [
    "os.getcwd()\n",
    "os.chdir('/Users/yueyingteng/Documents/2016.9/Big Data /kaggle')"
   ]
  },
  {
   "cell_type": "code",
   "execution_count": 3,
   "metadata": {
    "collapsed": false
   },
   "outputs": [],
   "source": [
    "# folderPath='./fish/ALB'\n",
    "# # ALB_index = set(range(2544))\n",
    "# image_name = os.listdir(folderPath)\n",
    "# image_names = image_name[0:len(image_name)-1]\n",
    "# # image_names=[image_names[i] for i in ALB_index]\n",
    "# image_paths = [os.path.join(folderPath, f) for f in image_names]\n",
    "# for image_path in image_paths:\n",
    "#         print image_path, type(image_path)"
   ]
  },
  {
   "cell_type": "code",
   "execution_count": 235,
   "metadata": {
    "collapsed": false
   },
   "outputs": [],
   "source": [
    "# image_paths\n",
    "folders = [f for f in os.listdir('./fish') if not f.startswith('.')]\n",
    "image_paths0 = []\n",
    "nums = []\n",
    "for folder in folders:\n",
    "    image_name = os.listdir(os.path.join('./fish',folder))\n",
    "    image_names = image_name[0:len(image_name)-1]\n",
    "    image_paths0.append([os.path.join(os.path.join('./fish',folder), f) for f in image_names])\n",
    "    nums.append((len(image_name)-1))\n",
    "image_paths = [item for sublist in image_paths0 for item in sublist]"
   ]
  },
  {
   "cell_type": "code",
   "execution_count": 5,
   "metadata": {
    "collapsed": false
   },
   "outputs": [],
   "source": [
    "# # [float(i) for i in lst]\n",
    "# # len(image_paths)\n",
    "# # sum(nums)\n",
    "# for image_path in image_paths:\n",
    "#         print image_path, type(image_path)"
   ]
  },
  {
   "cell_type": "code",
   "execution_count": 236,
   "metadata": {
    "collapsed": false
   },
   "outputs": [],
   "source": [
    "#image_classes\n",
    "image_classes = []\n",
    "for i in range(len(nums)):\n",
    "    image_classes.append(np.full((1,nums[i]),i))\n",
    "image_classes = np.concatenate(image_classes, axis = 1)"
   ]
  },
  {
   "cell_type": "code",
   "execution_count": 237,
   "metadata": {
    "collapsed": false
   },
   "outputs": [],
   "source": [
    "a = np.ravel(image_classes)\n",
    "image_classes = a.tolist()\n",
    "image_classes_train = image_classes[0:len(image_classes)]"
   ]
  },
  {
   "cell_type": "code",
   "execution_count": 238,
   "metadata": {
    "collapsed": false
   },
   "outputs": [
    {
     "data": {
      "text/plain": [
       "5.0"
      ]
     },
     "execution_count": 238,
     "metadata": {},
     "output_type": "execute_result"
    }
   ],
   "source": [
    "image_classes_train[4000]"
   ]
  },
  {
   "cell_type": "code",
   "execution_count": null,
   "metadata": {
    "collapsed": true
   },
   "outputs": [],
   "source": [
    "# image_classes=image_classes[0:len(image_classes)-1]\n",
    "# index=set(range(len(image_classes)))\n",
    "# index=index.difference(corrupt)\n",
    "# image_classes=[image_classes[i] for i in index]"
   ]
  },
  {
   "cell_type": "code",
   "execution_count": 60,
   "metadata": {
    "collapsed": false
   },
   "outputs": [
    {
     "data": {
      "text/plain": [
       "array([[ 0.,  0.,  0.,  0.,  0.,  1.,  1.,  1.,  1.,  1.,  1.,  1.,  1.,\n",
       "         1.,  1.,  1.,  1.]])"
      ]
     },
     "execution_count": 60,
     "metadata": {},
     "output_type": "execute_result"
    }
   ],
   "source": [
    "# a = np.full((1,5),0)\n",
    "# b = np.full((1,6), 1)\n",
    "# c = np.concatenate((a, b,d), axis=1)\n",
    "# c"
   ]
  },
  {
   "cell_type": "code",
   "execution_count": 239,
   "metadata": {
    "collapsed": false
   },
   "outputs": [
    {
     "data": {
      "text/plain": [
       "(list, 4091, list, 4091)"
      ]
     },
     "execution_count": 239,
     "metadata": {},
     "output_type": "execute_result"
    }
   ],
   "source": [
    "type(image_paths),len(image_paths), type(image_classes), len(image_classes)"
   ]
  },
  {
   "cell_type": "code",
   "execution_count": null,
   "metadata": {
    "collapsed": false
   },
   "outputs": [],
   "source": []
  },
  {
   "cell_type": "code",
   "execution_count": null,
   "metadata": {
    "collapsed": true
   },
   "outputs": [],
   "source": []
  },
  {
   "cell_type": "code",
   "execution_count": null,
   "metadata": {
    "collapsed": true
   },
   "outputs": [],
   "source": []
  },
  {
   "cell_type": "code",
   "execution_count": 241,
   "metadata": {
    "collapsed": false
   },
   "outputs": [],
   "source": [
    "# feature_det = cv2.FeatureDetector_create(\"SIFT\")\n",
    "feature_det = xfeatures2d.SIFT_create()\n",
    "\n",
    "def preProcessImages(image_paths):\n",
    "    descriptors= []\n",
    "    for image_path in image_paths:\n",
    "        im = imread(image_path)\n",
    "        kpts = feature_det.detect(im)\n",
    "        # kpts, des = descr_ext.compute(im, kpts)\n",
    "        kpts, des = feature_det.compute(im, kpts)\n",
    "        descriptors.append(des)\n",
    "    return descriptors"
   ]
  },
  {
   "cell_type": "code",
   "execution_count": 242,
   "metadata": {
    "collapsed": false
   },
   "outputs": [
    {
     "name": "stdout",
     "output_type": "stream",
     "text": [
      "minutes spent in Descriptors\n",
      "2.52184234858\n"
     ]
    }
   ],
   "source": [
    "start = time.time()\n",
    "descriptors= preProcessImages(image_paths)\n",
    "end = time.time()\n",
    "print \"minutes spent in Descriptors\"\n",
    "print (end - start)/60"
   ]
  },
  {
   "cell_type": "code",
   "execution_count": 243,
   "metadata": {
    "collapsed": false
   },
   "outputs": [
    {
     "data": {
      "text/plain": [
       "4091"
      ]
     },
     "execution_count": 243,
     "metadata": {},
     "output_type": "execute_result"
    }
   ],
   "source": [
    "len(descriptors)"
   ]
  },
  {
   "cell_type": "code",
   "execution_count": 247,
   "metadata": {
    "collapsed": false
   },
   "outputs": [
    {
     "name": "stderr",
     "output_type": "stream",
     "text": [
      "/Users/yueyingteng/anaconda3/envs/python2/lib/python2.7/site-packages/ipykernel/__main__.py:3: FutureWarning: comparison to `None` will result in an elementwise object comparison in the future.\n",
      "  app.launch_new_instance()\n",
      "/Users/yueyingteng/anaconda3/envs/python2/lib/python2.7/site-packages/ipykernel/__main__.py:6: FutureWarning: comparison to `None` will result in an elementwise object comparison in the future.\n"
     ]
    }
   ],
   "source": [
    "descriptors_none=[]\n",
    "for i, j in enumerate(descriptors):\n",
    "    if j == None:\n",
    "        descriptors_none.append(i)\n",
    "\n",
    "descriptors=[i for i in descriptors if i!= None]\n",
    "image_classes_train=[image_classes_train[i] for i in range(len(image_classes_train)) if i not in descriptors_none]\n",
    "image_paths=[image_paths[i] for i in range(len(image_paths)) if i not in descriptors_none]\n"
   ]
  },
  {
   "cell_type": "code",
   "execution_count": 248,
   "metadata": {
    "collapsed": false
   },
   "outputs": [
    {
     "data": {
      "text/plain": [
       "(4089, 4089, 0)"
      ]
     },
     "execution_count": 248,
     "metadata": {},
     "output_type": "execute_result"
    }
   ],
   "source": [
    "len(image_classes_train), len(image_paths), len(descriptors_none)"
   ]
  },
  {
   "cell_type": "code",
   "execution_count": null,
   "metadata": {
    "collapsed": true
   },
   "outputs": [],
   "source": []
  },
  {
   "cell_type": "code",
   "execution_count": null,
   "metadata": {
    "collapsed": true
   },
   "outputs": [],
   "source": []
  },
  {
   "cell_type": "code",
   "execution_count": 81,
   "metadata": {
    "collapsed": false
   },
   "outputs": [],
   "source": [
    "paths = pd.DataFrame(image_paths, columns = ['paths'])\n",
    "classes = pd.DataFrame(image_classes_train, columns = ['classes'])"
   ]
  },
  {
   "cell_type": "code",
   "execution_count": 228,
   "metadata": {
    "collapsed": false
   },
   "outputs": [
    {
     "data": {
      "text/plain": [
       "((4089, 1), (4089, 1))"
      ]
     },
     "execution_count": 228,
     "metadata": {},
     "output_type": "execute_result"
    }
   ],
   "source": [
    "paths.shape, classes.shape"
   ]
  },
  {
   "cell_type": "code",
   "execution_count": 102,
   "metadata": {
    "collapsed": false
   },
   "outputs": [],
   "source": [
    "fishes = classes.join(paths)\n",
    "# backup save to csv \n",
    "fishes.to_csv('fishes.csv', index = False)"
   ]
  },
  {
   "cell_type": "code",
   "execution_count": 108,
   "metadata": {
    "collapsed": false
   },
   "outputs": [
    {
     "data": {
      "text/html": [
       "<div>\n",
       "<table border=\"1\" class=\"dataframe\">\n",
       "  <thead>\n",
       "    <tr style=\"text-align: right;\">\n",
       "      <th></th>\n",
       "      <th>paths</th>\n",
       "    </tr>\n",
       "    <tr>\n",
       "      <th>classes</th>\n",
       "      <th></th>\n",
       "    </tr>\n",
       "  </thead>\n",
       "  <tbody>\n",
       "    <tr>\n",
       "      <th>0.0</th>\n",
       "      <td>2543</td>\n",
       "    </tr>\n",
       "    <tr>\n",
       "      <th>1.0</th>\n",
       "      <td>306</td>\n",
       "    </tr>\n",
       "    <tr>\n",
       "      <th>2.0</th>\n",
       "      <td>123</td>\n",
       "    </tr>\n",
       "    <tr>\n",
       "      <th>3.0</th>\n",
       "      <td>100</td>\n",
       "    </tr>\n",
       "    <tr>\n",
       "      <th>4.0</th>\n",
       "      <td>195</td>\n",
       "    </tr>\n",
       "    <tr>\n",
       "      <th>5.0</th>\n",
       "      <td>822</td>\n",
       "    </tr>\n",
       "  </tbody>\n",
       "</table>\n",
       "</div>"
      ],
      "text/plain": [
       "         paths\n",
       "classes       \n",
       "0.0       2543\n",
       "1.0        306\n",
       "2.0        123\n",
       "3.0        100\n",
       "4.0        195\n",
       "5.0        822"
      ]
     },
     "execution_count": 108,
     "metadata": {},
     "output_type": "execute_result"
    }
   ],
   "source": [
    "fishes.groupby('classes').count()"
   ]
  },
  {
   "cell_type": "code",
   "execution_count": 265,
   "metadata": {
    "collapsed": false
   },
   "outputs": [
    {
     "data": {
      "text/plain": [
       "0"
      ]
     },
     "execution_count": 265,
     "metadata": {},
     "output_type": "execute_result"
    }
   ],
   "source": []
  },
  {
   "cell_type": "code",
   "execution_count": null,
   "metadata": {
    "collapsed": true
   },
   "outputs": [],
   "source": []
  },
  {
   "cell_type": "code",
   "execution_count": 59,
   "metadata": {
    "collapsed": false
   },
   "outputs": [],
   "source": [
    "matcher = BFMatcher(NORM_L2)\n",
    "\n",
    "# extract descriptor of the new images baesed on the constructed vocabulary\n",
    "# bow_extract  =cv2.BOWImgDescriptorExtractor(descr_ext,matcher)\n",
    "bow_extract  = BOWImgDescriptorExtractor(feature_det,matcher)\n",
    "\n",
    "def getImagedata(feature_det,bow_extract,path):\n",
    "    im = imread(path)\n",
    "    featureset = bow_extract.compute(im, feature_det.detect(im))\n",
    "    return featureset\n",
    "# returned featureset contains normzlized histogram"
   ]
  },
  {
   "cell_type": "code",
   "execution_count": 60,
   "metadata": {
    "collapsed": true
   },
   "outputs": [],
   "source": [
    "# clustering k=500\n",
    "bow_train = BOWKMeansTrainer(50)\n",
    "\n",
    "# create the vocabulary\n",
    "for des in descriptors:\n",
    "    bow_train.add(des)"
   ]
  },
  {
   "cell_type": "code",
   "execution_count": 61,
   "metadata": {
    "collapsed": false
   },
   "outputs": [
    {
     "name": "stdout",
     "output_type": "stream",
     "text": [
      "minutes spent in creating Vocabulary\n",
      "12.0859995325\n"
     ]
    }
   ],
   "source": [
    "start = time.time()\n",
    "voc = bow_train.cluster()\n",
    "bow_extract.setVocabulary(voc)\n",
    "\n",
    "end = time.time()\n",
    "print \"minutes spent in creating Vocabulary\"\n",
    "print (end - start)/60"
   ]
  },
  {
   "cell_type": "code",
   "execution_count": null,
   "metadata": {
    "collapsed": false
   },
   "outputs": [],
   "source": []
  },
  {
   "cell_type": "code",
   "execution_count": 172,
   "metadata": {
    "collapsed": false
   },
   "outputs": [
    {
     "name": "stdout",
     "output_type": "stream",
     "text": [
      "minutes spent in Extracting vocabulary\n",
      "2.41215503216\n"
     ]
    }
   ],
   "source": [
    "# get features from the training data based on the vocabulary & approximate nearest neighbour\n",
    "# features are used as the training data \n",
    "traindata = []  \n",
    "\n",
    "start = time.time()\n",
    "for path in image_paths:\n",
    "    featureset = getImagedata(feature_det,bow_extract,path)\n",
    "    traindata.append(featureset)\n",
    "\n",
    "end = time.time()\n",
    "print (\"minutes spent in Extracting vocabulary\")\n",
    "print ((end - start)/60)"
   ]
  },
  {
   "cell_type": "code",
   "execution_count": 128,
   "metadata": {
    "collapsed": false
   },
   "outputs": [],
   "source": [
    "# from sklearn.datasets import load_digits\n",
    "# digits = load_digits()\n",
    "# traindata = digits.data\n",
    "# image_classes_train = digits.target"
   ]
  },
  {
   "cell_type": "code",
   "execution_count": 246,
   "metadata": {
    "collapsed": false,
    "scrolled": false
   },
   "outputs": [
    {
     "name": "stdout",
     "output_type": "stream",
     "text": [
      "4089\n",
      "4089\n"
     ]
    },
    {
     "data": {
      "text/plain": [
       "(1, 50)"
      ]
     },
     "execution_count": 246,
     "metadata": {},
     "output_type": "execute_result"
    }
   ],
   "source": [
    "print len(traindata)\n",
    "print len(np.array(image_classes_train))\n",
    "traindata[0].shape"
   ]
  },
  {
   "cell_type": "code",
   "execution_count": null,
   "metadata": {
    "collapsed": false
   },
   "outputs": [],
   "source": []
  },
  {
   "cell_type": "code",
   "execution_count": 249,
   "metadata": {
    "collapsed": false
   },
   "outputs": [
    {
     "name": "stdout",
     "output_type": "stream",
     "text": [
      "(4089, 1, 50)\n",
      "(4089, 50)\n"
     ]
    }
   ],
   "source": [
    "a = np.array(traindata)\n",
    "print a.shape\n",
    "len(a)\n",
    "\n",
    "size = len(a)\n",
    "twodim = a.reshape(size, -1)\n",
    "print twodim.shape"
   ]
  },
  {
   "cell_type": "code",
   "execution_count": 250,
   "metadata": {
    "collapsed": false
   },
   "outputs": [
    {
     "name": "stdout",
     "output_type": "stream",
     "text": [
      "(4089, 1) (4089,)\n"
     ]
    }
   ],
   "source": [
    "s = len(np.array(image_classes_train))\n",
    "l = np.array(image_classes_train).reshape(s, -1)\n",
    "print l.shape, np.array(image_classes_train).shape"
   ]
  },
  {
   "cell_type": "code",
   "execution_count": 232,
   "metadata": {
    "collapsed": false
   },
   "outputs": [
    {
     "data": {
      "text/plain": [
       "(4091,)"
      ]
     },
     "execution_count": 232,
     "metadata": {},
     "output_type": "execute_result"
    }
   ],
   "source": [
    "np.array(image_classes_train).shape"
   ]
  },
  {
   "cell_type": "code",
   "execution_count": 251,
   "metadata": {
    "collapsed": false
   },
   "outputs": [
    {
     "name": "stdout",
     "output_type": "stream",
     "text": [
      "0.00256333351135\n"
     ]
    }
   ],
   "source": [
    "start = time.time()\n",
    "lin_clf = svm.LinearSVC()\n",
    "lin_clf.fit(twodim, np.array(image_classes_train)) \n",
    "\n",
    "joblib.dump((voc,lin_clf), \"imagereco.pkl\", compress=3)\n",
    "\n",
    "end = time.time()\n",
    "print (end - start)/60"
   ]
  },
  {
   "cell_type": "code",
   "execution_count": 254,
   "metadata": {
    "collapsed": false
   },
   "outputs": [
    {
     "name": "stdout",
     "output_type": "stream",
     "text": [
      "0.0165712833405\n"
     ]
    }
   ],
   "source": [
    "start = time.time()\n",
    "\n",
    "clf = svm.SVC(decision_function_shape='ovo')\n",
    "clf.fit(twodim, np.array(image_classes_train)) \n",
    "\n",
    "# dec = clf.decision_function([[1]])\n",
    "# dec.shape[1] # 4 classes: 4*3/2 = 6\n",
    "\n",
    "# clf.decision_function_shape = \"ovr\"\n",
    "# dec = clf.decision_function([[1]])\n",
    "# dec.shape[1] # 4 classes\n",
    "\n",
    "joblib.dump((voc,clf), \"imagereco.pkl\", compress=3)\n",
    "\n",
    "end = time.time()\n",
    "print (end - start)/60\n",
    "# LinearSVC(C=1.0, class_weight=None, dual=True, fit_intercept=True,\n",
    "#      intercept_scaling=1, loss='squared_hinge', max_iter=1000,\n",
    "#      multi_class='ovr', penalty='l2', random_state=None, tol=0.0001,\n",
    "#      verbose=0)\n",
    "# dec = lin_clf.decision_function([[1]])\n",
    "# dec.shape[1]\n"
   ]
  },
  {
   "cell_type": "code",
   "execution_count": 255,
   "metadata": {
    "collapsed": false
   },
   "outputs": [],
   "source": [
    "voc,clf = joblib.load(\"imagereco.pkl\")"
   ]
  },
  {
   "cell_type": "code",
   "execution_count": null,
   "metadata": {
    "collapsed": true
   },
   "outputs": [],
   "source": [
    "\n"
   ]
  },
  {
   "cell_type": "code",
   "execution_count": null,
   "metadata": {
    "collapsed": true
   },
   "outputs": [],
   "source": [
    "# train linear svm\n",
    "clf=sklearn.svm.classes.LinearSVC()\n",
    "\n",
    "# clf = LinearSVC()\n",
    "clf.fit(traindata, numpy.array(image_classes_train))\n",
    "joblib.dump((voc,clf), \"imagereco.pkl\", compress=3)\n",
    "\n",
    "# model=train(descriptors,image_classes_train,image_paths)\n",
    "voc, clf = joblib.load(\"imagereco.pkl\")\n",
    "\n",
    "\n",
    "X=numpy.matrix(traindata)\n",
    "numpy.savetxt('X2.csv', X,delimiter=',')\n",
    "\n",
    "my_file = open(\"label_2_2.txt\", \"w\")\n",
    "for item in image_classes_train:\n",
    "    my_file.write(\"%s\\n\" % item)\n",
    "\n",
    "my_file.close()\n",
    "\n",
    "my_file = open(\"animal_names_2.txt\", \"w\")\n",
    "for item in training_names:\n",
    "    my_file.write(\"%s\\n\" % item)\n",
    "\n",
    "my_file.close()"
   ]
  },
  {
   "cell_type": "code",
   "execution_count": 257,
   "metadata": {
    "collapsed": false
   },
   "outputs": [
    {
     "name": "stdout",
     "output_type": "stream",
     "text": [
      "Accuracy with training\n"
     ]
    },
    {
     "data": {
      "text/plain": [
       "0.62191244803130352"
      ]
     },
     "execution_count": 257,
     "metadata": {},
     "output_type": "execute_result"
    }
   ],
   "source": [
    "# Accuracy Training data\n",
    "prediction = clf.predict(twodim)\n",
    "p=np.array(prediction)\n",
    "c=np.array(image_classes_train)\n",
    "\n",
    "print(\"Accuracy with training\")\n",
    "np.sum(p==c)/(len(prediction)*1.000)\n"
   ]
  },
  {
   "cell_type": "code",
   "execution_count": 260,
   "metadata": {
    "collapsed": false
   },
   "outputs": [
    {
     "name": "stdout",
     "output_type": "stream",
     "text": [
      "0.0\n",
      "5.0\n"
     ]
    }
   ],
   "source": [
    "# 2543/4089 = 0.6219"
   ]
  },
  {
   "cell_type": "code",
   "execution_count": 263,
   "metadata": {
    "collapsed": false
   },
   "outputs": [
    {
     "ename": "TypeError",
     "evalue": "You have to supply one of 'by' and 'level'",
     "output_type": "error",
     "traceback": [
      "\u001b[0;31m---------------------------------------------------------------------------\u001b[0m",
      "\u001b[0;31mTypeError\u001b[0m                                 Traceback (most recent call last)",
      "\u001b[0;32m<ipython-input-263-5c5d01df0b0c>\u001b[0m in \u001b[0;36m<module>\u001b[0;34m()\u001b[0m\n\u001b[0;32m----> 1\u001b[0;31m \u001b[0mpd\u001b[0m\u001b[0;34m.\u001b[0m\u001b[0mDataFrame\u001b[0m\u001b[0;34m(\u001b[0m\u001b[0mc\u001b[0m\u001b[0;34m)\u001b[0m\u001b[0;34m.\u001b[0m\u001b[0mgroupby\u001b[0m\u001b[0;34m(\u001b[0m\u001b[0;34m)\u001b[0m\u001b[0;34m.\u001b[0m\u001b[0mcount\u001b[0m\u001b[0;34m(\u001b[0m\u001b[0;34m)\u001b[0m\u001b[0;34m\u001b[0m\u001b[0m\n\u001b[0m",
      "\u001b[0;32m/Users/yueyingteng/anaconda3/envs/python2/lib/python2.7/site-packages/pandas/core/generic.pyc\u001b[0m in \u001b[0;36mgroupby\u001b[0;34m(self, by, axis, level, as_index, sort, group_keys, squeeze, **kwargs)\u001b[0m\n\u001b[1;32m   3978\u001b[0m \u001b[0;34m\u001b[0m\u001b[0m\n\u001b[1;32m   3979\u001b[0m         \u001b[0;32mif\u001b[0m \u001b[0mlevel\u001b[0m \u001b[0;32mis\u001b[0m \u001b[0mNone\u001b[0m \u001b[0;32mand\u001b[0m \u001b[0mby\u001b[0m \u001b[0;32mis\u001b[0m \u001b[0mNone\u001b[0m\u001b[0;34m:\u001b[0m\u001b[0;34m\u001b[0m\u001b[0m\n\u001b[0;32m-> 3980\u001b[0;31m             \u001b[0;32mraise\u001b[0m \u001b[0mTypeError\u001b[0m\u001b[0;34m(\u001b[0m\u001b[0;34m\"You have to supply one of 'by' and 'level'\"\u001b[0m\u001b[0;34m)\u001b[0m\u001b[0;34m\u001b[0m\u001b[0m\n\u001b[0m\u001b[1;32m   3981\u001b[0m         \u001b[0maxis\u001b[0m \u001b[0;34m=\u001b[0m \u001b[0mself\u001b[0m\u001b[0;34m.\u001b[0m\u001b[0m_get_axis_number\u001b[0m\u001b[0;34m(\u001b[0m\u001b[0maxis\u001b[0m\u001b[0;34m)\u001b[0m\u001b[0;34m\u001b[0m\u001b[0m\n\u001b[1;32m   3982\u001b[0m         return groupby(self, by=by, axis=axis, level=level, as_index=as_index,\n",
      "\u001b[0;31mTypeError\u001b[0m: You have to supply one of 'by' and 'level'"
     ]
    }
   ],
   "source": []
  },
  {
   "cell_type": "code",
   "execution_count": null,
   "metadata": {
    "collapsed": true
   },
   "outputs": [],
   "source": [
    "# Accuracy Test data\n",
    "prediction_test=[]\n",
    "for imagepath in testing_paths:\n",
    "    featureset = getImagedata(feature_det,bow_extract,imagepath)\n",
    "    prediction_temp = clf.predict(featureset)\n",
    "    if list(prediction_temp) ==['1']:\n",
    "        prediction_test.append('1')\n",
    "    else:\n",
    "        prediction_test.append('0')\n",
    "\n",
    "\n",
    "p=numpy.array(prediction_test)\n",
    "c=numpy.array(image_classes_test)\n",
    "print(\"Accuracy with training\")\n",
    "numpy.sum(p==c)/(len(prediction_test)*1.000)"
   ]
  },
  {
   "cell_type": "code",
   "execution_count": null,
   "metadata": {
    "collapsed": true
   },
   "outputs": [],
   "source": []
  }
 ],
 "metadata": {
  "anaconda-cloud": {},
  "kernelspec": {
   "display_name": "Python [python2]",
   "language": "python",
   "name": "Python [python2]"
  },
  "language_info": {
   "codemirror_mode": {
    "name": "ipython",
    "version": 2
   },
   "file_extension": ".py",
   "mimetype": "text/x-python",
   "name": "python",
   "nbconvert_exporter": "python",
   "pygments_lexer": "ipython2",
   "version": "2.7.12"
  }
 },
 "nbformat": 4,
 "nbformat_minor": 0
}
