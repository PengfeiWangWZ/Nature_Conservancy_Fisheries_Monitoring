{
 "cells": [
  {
   "cell_type": "code",
   "execution_count": 1,
   "metadata": {
    "collapsed": true
   },
   "outputs": [],
   "source": [
    "# source activate python2\n",
    "# conda install -c menpo opencv3"
   ]
  },
  {
   "cell_type": "code",
   "execution_count": 1,
   "metadata": {
    "collapsed": false
   },
   "outputs": [
    {
     "data": {
      "text/plain": [
       "'3.1.0'"
      ]
     },
     "execution_count": 1,
     "metadata": {},
     "output_type": "execute_result"
    }
   ],
   "source": [
    "from cv2 import __version__\n",
    "__version__"
   ]
  },
  {
   "cell_type": "code",
   "execution_count": 2,
   "metadata": {
    "collapsed": true
   },
   "outputs": [],
   "source": [
    "import cv2\n",
    "import joblib\n",
    "import os\n",
    "import csv\n",
    "import numpy\n",
    "import sklearn\n",
    "from sklearn import svm\n",
    "import time\n",
    "from random import randint\n"
   ]
  },
  {
   "cell_type": "code",
   "execution_count": 3,
   "metadata": {
    "collapsed": true
   },
   "outputs": [],
   "source": [
    "os.getcwd()\n",
    "os.chdir('/Users/yueyingteng/Documents/2016.9/Big Data /kaggle')"
   ]
  },
  {
   "cell_type": "code",
   "execution_count": 4,
   "metadata": {
    "collapsed": true
   },
   "outputs": [],
   "source": [
    "folderPath='./fish/ALB'\n",
    "ALB_index = set(range(2544))\n",
    "image_name = os.listdir(folderPath)\n",
    "image_names = image_name[0:len(image_name)-1]\n",
    "image_names=[image_names[i] for i in ALB_index]\n",
    "image_paths = [os.path.join(folderPath, f) for f in image_names]"
   ]
  },
  {
   "cell_type": "code",
   "execution_count": 5,
   "metadata": {
    "collapsed": true
   },
   "outputs": [],
   "source": [
    "# feature_det = cv2.FeatureDetector_create(\"SIFT\")\n",
    "feature_det = cv2.xfeatures2d.SIFT_create()\n",
    "\n",
    "def preProcessImages(image_paths):\n",
    "    descriptors= []\n",
    "    for image_path in image_paths:\n",
    "        im = cv2.imread(image_path)\n",
    "        kpts = feature_det.detect(im)\n",
    "        # kpts, des = descr_ext.compute(im, kpts)\n",
    "        kpts, des = feature_det.compute(im, kpts)\n",
    "        descriptors.append(des)\n",
    "    return descriptors"
   ]
  },
  {
   "cell_type": "code",
   "execution_count": 6,
   "metadata": {
    "collapsed": false
   },
   "outputs": [
    {
     "name": "stdout",
     "output_type": "stream",
     "text": [
      "minutes spent in Descriptors\n",
      "1.09332924684\n"
     ]
    }
   ],
   "source": [
    "start = time.time()\n",
    "descriptors = preProcessImages(image_paths)\n",
    "end = time.time()\n",
    "print \"minutes spent in Descriptors\"\n",
    "print (end - start)/60"
   ]
  },
  {
   "cell_type": "code",
   "execution_count": 7,
   "metadata": {
    "collapsed": false
   },
   "outputs": [
    {
     "name": "stderr",
     "output_type": "stream",
     "text": [
      "/Users/yueyingteng/anaconda3/envs/python2/lib/python2.7/site-packages/ipykernel/__main__.py:3: FutureWarning: comparison to `None` will result in an elementwise object comparison in the future.\n",
      "  app.launch_new_instance()\n",
      "/Users/yueyingteng/anaconda3/envs/python2/lib/python2.7/site-packages/ipykernel/__main__.py:6: FutureWarning: comparison to `None` will result in an elementwise object comparison in the future.\n"
     ]
    }
   ],
   "source": [
    "descriptors_none=[]\n",
    "for i, j in enumerate(descriptors):\n",
    "    if j == None:\n",
    "        descriptors_none.append(i)\n",
    "\n",
    "descriptors=[i for i in descriptors if i!= None]\n",
    "# image_classes_train=[image_classes_train[i] for i in range(len(image_classes_train)) if i not in descriptors_none]\n",
    "image_paths=[image_paths[i] for i in range(len(image_paths)) if i not in descriptors_none]\n"
   ]
  },
  {
   "cell_type": "code",
   "execution_count": 8,
   "metadata": {
    "collapsed": true
   },
   "outputs": [],
   "source": [
    "# def train(descriptors,image_classes_train,image_paths):  \n",
    "flann_params = dict(algorithm = 1, trees = 5)     \n",
    "matcher = cv2.FlannBasedMatcher(flann_params, {})\n",
    "\n",
    "# extract descriptor of the new images baesed on the constructed vocabulary\n",
    "# bow_extract  =cv2.BOWImgDescriptorExtractor(descr_ext,matcher)\n",
    "bow_extract  =cv2.BOWImgDescriptorExtractor(feature_det,matcher)\n",
    "\n",
    "def getImagedata(feature_det,bow_extract,path):\n",
    "    im = cv2.imread(path)\n",
    "    featureset = bow_extract.compute(im, feature_det.detect(im))\n",
    "    return featureset\n",
    "# returned featureset contains normzlized histogram"
   ]
  },
  {
   "cell_type": "code",
   "execution_count": 9,
   "metadata": {
    "collapsed": true
   },
   "outputs": [],
   "source": [
    "# clustering k=500\n",
    "bow_train = cv2.BOWKMeansTrainer(5)\n",
    "\n",
    "# create the vocabulary\n",
    "for des in descriptors:\n",
    "    bow_train.add(des)"
   ]
  },
  {
   "cell_type": "code",
   "execution_count": 14,
   "metadata": {
    "collapsed": false
   },
   "outputs": [],
   "source": [
    "start = time.time()\n",
    "voc = bow_train.cluster()\n",
    "bow_extract.setVocabulary(voc)\n",
    "\n",
    "end = time.time()\n",
    "print \"minutes spent in creating Vocabulary\"\n",
    "print (end - start)/60"
   ]
  },
  {
   "cell_type": "code",
   "execution_count": null,
   "metadata": {
    "collapsed": true
   },
   "outputs": [],
   "source": []
  },
  {
   "cell_type": "code",
   "execution_count": null,
   "metadata": {
    "collapsed": true
   },
   "outputs": [],
   "source": [
    "# get features from the training data based on the vocabulary & approximate nearest neighbour\n",
    "# features are used as the training data \n",
    "traindata = []  \n",
    "\n",
    "start = time.time()\n",
    "for imagepath in image_paths:\n",
    "    featureset = getImagedata(feature_det,bow_extract,imagepath)\n",
    "    traindata.extend(featureset)\n",
    "\n",
    "end = time.time()\n",
    "print (\"minutes spent in Extracting vocabulary\")\n",
    "print ((end - start)/60)"
   ]
  },
  {
   "cell_type": "code",
   "execution_count": null,
   "metadata": {
    "collapsed": true
   },
   "outputs": [],
   "source": [
    "# train linear svm\n",
    "clf=sklearn.svm.classes.LinearSVC()\n",
    "\n",
    "# clf = LinearSVC()\n",
    "clf.fit(traindata, numpy.array(image_classes_train))\n",
    "joblib.dump((voc,clf), \"imagereco.pkl\", compress=3)\n",
    "\n",
    "# model=train(descriptors,image_classes_train,image_paths)\n",
    "voc, clf = joblib.load(\"imagereco.pkl\")\n",
    "\n",
    "\n",
    "X=numpy.matrix(traindata)\n",
    "numpy.savetxt('X2.csv', X,delimiter=',')\n",
    "\n",
    "my_file = open(\"label_2_2.txt\", \"w\")\n",
    "for item in image_classes_train:\n",
    "    my_file.write(\"%s\\n\" % item)\n",
    "\n",
    "my_file.close()\n",
    "\n",
    "my_file = open(\"animal_names_2.txt\", \"w\")\n",
    "for item in training_names:\n",
    "    my_file.write(\"%s\\n\" % item)\n",
    "\n",
    "my_file.close()"
   ]
  }
 ],
 "metadata": {
  "anaconda-cloud": {},
  "kernelspec": {
   "display_name": "Python [python2]",
   "language": "python",
   "name": "Python [python2]"
  },
  "language_info": {
   "codemirror_mode": {
    "name": "ipython",
    "version": 2
   },
   "file_extension": ".py",
   "mimetype": "text/x-python",
   "name": "python",
   "nbconvert_exporter": "python",
   "pygments_lexer": "ipython2",
   "version": "2.7.12"
  }
 },
 "nbformat": 4,
 "nbformat_minor": 0
}
